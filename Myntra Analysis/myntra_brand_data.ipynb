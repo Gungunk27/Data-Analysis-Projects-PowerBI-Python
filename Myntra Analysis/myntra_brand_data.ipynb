{
  "nbformat": 4,
  "nbformat_minor": 0,
  "metadata": {
    "colab": {
      "provenance": []
    },
    "kernelspec": {
      "name": "python3",
      "display_name": "Python 3"
    },
    "language_info": {
      "name": "python"
    }
  },
  "cells": [
    {
      "cell_type": "code",
      "execution_count": null,
      "metadata": {
        "id": "DkR58NVsiDct"
      },
      "outputs": [],
      "source": [
        "import sqlite3\n",
        "import pandas as pd\n",
        "\n",
        "df=pd.read_excel(\"myntra.xlsx\")\n",
        "\n",
        "connection = sqlite3.connect('my_database.db')\n",
        "\n",
        "df.to_sql('myntra', connection, if_exists='replace', index=False)\n",
        "\n",
        "# Step 4: Query the SQLite database to check if the data is loaded\n",
        "cursor = connection.cursor()\n",
        "cursor.execute(\"SELECT * FROM myntra\")\n",
        "\n",
        "# Fetch and display the results\n",
        "rows = cursor.fetchall()\n",
        "for row in rows:\n",
        "    print(row)\n",
        "\n",
        "\n"
      ]
    },
    {
      "cell_type": "code",
      "source": [
        "column_names = df.columns.tolist()\n",
        "column_names"
      ],
      "metadata": {
        "colab": {
          "base_uri": "https://localhost:8080/"
        },
        "id": "znw8jyPNOYnM",
        "outputId": "04699b9e-ba2f-43fa-9478-c7ca7bd4fab1"
      },
      "execution_count": 4,
      "outputs": [
        {
          "output_type": "execute_result",
          "data": {
            "text/plain": [
              "['Product ID',\n",
              " 'Category',\n",
              " 'Sub-category',\n",
              " 'Product Name',\n",
              " 'Brand Name',\n",
              " 'Size',\n",
              " 'Color',\n",
              " 'Ratings']"
            ]
          },
          "metadata": {},
          "execution_count": 4
        }
      ]
    },
    {
      "cell_type": "code",
      "source": [
        "print(\"First few rows of the dataset:\")\n",
        "print(df.head())"
      ],
      "metadata": {
        "colab": {
          "base_uri": "https://localhost:8080/"
        },
        "id": "OHrZT0EnPOpx",
        "outputId": "9c2d97e0-7ee5-4f5f-fe21-ab0be464e5ed"
      },
      "execution_count": 5,
      "outputs": [
        {
          "output_type": "stream",
          "name": "stdout",
          "text": [
            "First few rows of the dataset:\n",
            "  Product ID Category Sub-category Product Name Brand Name Size  Color  \\\n",
            "0      P0001    Women      Topwear     T-Shirts   Roadster   40  Black   \n",
            "1      P0002    Women      Topwear     T-Shirts   Roadster   40   Blue   \n",
            "2      P0003    Women      Topwear     T-Shirts   Roadster   42  White   \n",
            "3      P0004    Women      Topwear     T-Shirts   Roadster   44  Green   \n",
            "4      P0005    Women      Topwear     T-Shirts       Puma   38  Olive   \n",
            "\n",
            "   Ratings  \n",
            "0        4  \n",
            "1        5  \n",
            "2        3  \n",
            "3        2  \n",
            "4        5  \n"
          ]
        }
      ]
    },
    {
      "cell_type": "code",
      "source": [
        "print(\"\\nSummary statistics for Ratings:\")\n",
        "print(df['Ratings'].describe())"
      ],
      "metadata": {
        "colab": {
          "base_uri": "https://localhost:8080/"
        },
        "id": "4tnIKRioPcRY",
        "outputId": "f5ae3d97-a777-49e5-e0d9-a7480cfed2df"
      },
      "execution_count": 6,
      "outputs": [
        {
          "output_type": "stream",
          "name": "stdout",
          "text": [
            "\n",
            "Summary statistics for Ratings:\n",
            "count    3071.000000\n",
            "mean        4.002931\n",
            "std         0.971411\n",
            "min         2.000000\n",
            "25%         3.000000\n",
            "50%         4.000000\n",
            "75%         5.000000\n",
            "max         5.000000\n",
            "Name: Ratings, dtype: float64\n"
          ]
        }
      ]
    },
    {
      "cell_type": "code",
      "source": [
        "print(\"\\nCount of products by Category and Sub-category:\")\n",
        "category_counts = df.groupby(['Category', 'Sub-category']).size().reset_index(name='Count')\n",
        "print(category_counts)"
      ],
      "metadata": {
        "colab": {
          "base_uri": "https://localhost:8080/"
        },
        "id": "N7zooh6dPeuq",
        "outputId": "7568507b-bdb3-45b4-86c9-4a74c7364d0b"
      },
      "execution_count": 7,
      "outputs": [
        {
          "output_type": "stream",
          "name": "stdout",
          "text": [
            "\n",
            "Count of products by Category and Sub-category:\n",
            "   Category          Sub-category  Count\n",
            "0    Beauty              Haircare    139\n",
            "1    Beauty                Makeup    323\n",
            "2    Beauty              Skincare    158\n",
            "3      Kids         Boys Clothing    108\n",
            "4      Kids              Footwear    100\n",
            "5      Kids        Girls Clothing    179\n",
            "6      Kids               Infants     82\n",
            "7       Men            Bottomwear    377\n",
            "8       Men              Footwear    209\n",
            "9       Men               Topwear    403\n",
            "10    Women              Footwear    241\n",
            "11    Women  Indian & Fusion Wear    312\n",
            "12    Women               Topwear     60\n",
            "13    Women          Western Wear    380\n"
          ]
        }
      ]
    },
    {
      "cell_type": "code",
      "source": [
        "print(\"\\nAverage Ratings by Brand:\")\n",
        "average_ratings_by_brand = df.groupby('Brand Name')['Ratings'].mean().reset_index()\n",
        "average_ratings_by_brand = average_ratings_by_brand.sort_values(by='Ratings', ascending=False)  # Sort by ratings\n",
        "print(average_ratings_by_brand)"
      ],
      "metadata": {
        "colab": {
          "base_uri": "https://localhost:8080/"
        },
        "id": "wdkk3eFfPhKl",
        "outputId": "5dd06543-b4eb-4712-a63e-b3f890910949"
      },
      "execution_count": 8,
      "outputs": [
        {
          "output_type": "stream",
          "name": "stdout",
          "text": [
            "\n",
            "Average Ratings by Brand:\n",
            "                   Brand Name   Ratings\n",
            "6                      Campus  4.428571\n",
            "59                    Sunsilk  4.409091\n",
            "35                      Metro  4.375000\n",
            "9                       Crocs  4.333333\n",
            "60               Swiss Beauty  4.315789\n",
            "..                        ...       ...\n",
            "63  United Colors of Benetton  3.750000\n",
            "21                    Krayons  3.736842\n",
            "44                       ONLY  3.714286\n",
            "22                   La Zoire  3.666667\n",
            "70                   Woodland  3.411765\n",
            "\n",
            "[72 rows x 2 columns]\n"
          ]
        }
      ]
    },
    {
      "cell_type": "code",
      "source": [
        "top_rated_products = df.nlargest(5, 'Ratings')[['Product Name', 'Brand Name', 'Ratings']]\n",
        "print(\"\\nTop Rated Products:\")\n",
        "print(top_rated_products)"
      ],
      "metadata": {
        "colab": {
          "base_uri": "https://localhost:8080/"
        },
        "id": "kKXx42FNPoV2",
        "outputId": "a0aa029e-5861-4789-d1a3-6a2234725baf"
      },
      "execution_count": 9,
      "outputs": [
        {
          "output_type": "stream",
          "name": "stdout",
          "text": [
            "\n",
            "Top Rated Products:\n",
            "   Product Name Brand Name  Ratings\n",
            "1      T-Shirts   Roadster        5\n",
            "4      T-Shirts       Puma        5\n",
            "7      T-Shirts       Puma        5\n",
            "10     T-Shirts       Puma        5\n",
            "11     T-Shirts       Puma        5\n"
          ]
        }
      ]
    },
    {
      "cell_type": "code",
      "source": [
        "print(\"\\nCount of Products per Brand:\")\n",
        "brand_counts = df['Brand Name'].value_counts().reset_index()\n",
        "brand_counts.columns = ['Brand Name', 'Count']\n",
        "print(brand_counts)"
      ],
      "metadata": {
        "colab": {
          "base_uri": "https://localhost:8080/"
        },
        "id": "i5X8-7AYPqnT",
        "outputId": "59c59061-d9ae-4a56-a3e0-c2c35b144dd3"
      },
      "execution_count": 10,
      "outputs": [
        {
          "output_type": "stream",
          "name": "stdout",
          "text": [
            "\n",
            "Count of Products per Brand:\n",
            "     Brand Name  Count\n",
            "0           H&M    266\n",
            "1      Roadster    218\n",
            "2          Puma    213\n",
            "3      Here&Now    137\n",
            "4   Allen Solly    121\n",
            "..          ...    ...\n",
            "67    Moms Home      6\n",
            "68      Set Wet      6\n",
            "69    Hopscotch      6\n",
            "70      Catwalk      4\n",
            "71     La Zoire      3\n",
            "\n",
            "[72 rows x 2 columns]\n"
          ]
        }
      ]
    },
    {
      "cell_type": "code",
      "source": [
        "print(\"\\nProduct Distribution by Size for Each Brand:\")\n",
        "size_distribution = df.groupby(['Brand Name', 'Size']).size().unstack(fill_value=0)\n",
        "print(size_distribution)"
      ],
      "metadata": {
        "colab": {
          "base_uri": "https://localhost:8080/"
        },
        "id": "SrZxIu5bP0AJ",
        "outputId": "f6fca3bb-1b67-4023-9341-6ce02ee1982d"
      },
      "execution_count": 11,
      "outputs": [
        {
          "output_type": "stream",
          "name": "stdout",
          "text": [
            "\n",
            "Product Distribution by Size for Each Brand:\n",
            "Size         26  28  30  32  34  36  38  40  42  44  ...  9 UK  9-12M   L   M  \\\n",
            "Brand Name                                           ...                        \n",
            "Adidas        0   0   0   4  17   7  20   6   5  16  ...     7      0   0   0   \n",
            "Allen Solly   0   5   5   6   7  15   9   9  20   5  ...     0      0   0  10   \n",
            "Bata          0   0   0   0   0   0   0   0   0   0  ...     1      7   0   0   \n",
            "Biba          0   0   0   0   0   0   0   0   0   0  ...     0      0   6  31   \n",
            "Biotique      0   0   0   0   0   0   0   0   0   0  ...     0      0   0   0   \n",
            "...          ..  ..  ..  ..  ..  ..  ..  ..  ..  ..  ...   ...    ...  ..  ..   \n",
            "Vera Moda     0   0   1  11   0   6   0   0   0   0  ...     0      0   0   0   \n",
            "W             0   0   0   0   6  10   0   0   0   0  ...     0      0  10   0   \n",
            "Wildstone     0   0   0   0   0   0   0   0   0   0  ...     0      0   0   0   \n",
            "Woodland      0   0   0   0   0   0   6   0   4   0  ...     2      0   0   0   \n",
            "Wrogn         0   0   0   3   5  22  12  12  11  10  ...     7      0   0   0   \n",
            "\n",
            "Size         Onesize   S  XL  XS  XXL  XXS  \n",
            "Brand Name                                  \n",
            "Adidas             0   0   0   0    0    0  \n",
            "Allen Solly        0   7   0   0    0    0  \n",
            "Bata               0   0   0   0    0    0  \n",
            "Biba               0  18   8   0    5    0  \n",
            "Biotique          12   0   0   0    0    0  \n",
            "...              ...  ..  ..  ..  ...  ...  \n",
            "Vera Moda          0   0   0   0    0    0  \n",
            "W                  0   6  14   0    6    0  \n",
            "Wildstone         12   0   0   0    0    0  \n",
            "Woodland           0   0   0   0    0    0  \n",
            "Wrogn              0   0   0   0    0    0  \n",
            "\n",
            "[72 rows x 41 columns]\n"
          ]
        }
      ]
    },
    {
      "cell_type": "code",
      "source": [
        "rating_threshold = 3.0\n",
        "print(f\"\\nItems with Ratings Below {rating_threshold}:\")\n",
        "low_rated_items = df[df['Ratings'] < rating_threshold][['Product Name', 'Brand Name', 'Ratings']]\n",
        "print(low_rated_items)"
      ],
      "metadata": {
        "colab": {
          "base_uri": "https://localhost:8080/"
        },
        "id": "lKrazmTOP2w1",
        "outputId": "5e307aa3-f805-4fe3-8c8a-e072bba039be"
      },
      "execution_count": 12,
      "outputs": [
        {
          "output_type": "stream",
          "name": "stdout",
          "text": [
            "\n",
            "Items with Ratings Below 3.0:\n",
            "     Product Name              Brand Name  Ratings\n",
            "3        T-Shirts                Roadster        2\n",
            "9        T-Shirts                    Puma        2\n",
            "18       T-Shirts                   Wrogn        2\n",
            "38       T-Shirts  HRX by Hrithik Roshan         2\n",
            "46       T-Shirts                  Adidas        2\n",
            "...           ...                     ...      ...\n",
            "3020        Shoes                 Liberty        2\n",
            "3038      Sandals                 Liberty        2\n",
            "3046      Sandals                    Puma        2\n",
            "3049      Sandals                    Puma        2\n",
            "3058      Sandals                    Bata        2\n",
            "\n",
            "[313 rows x 3 columns]\n"
          ]
        }
      ]
    },
    {
      "cell_type": "code",
      "source": [
        "print(\"\\nTop Brands by Average Rating:\")\n",
        "top_brands = df.groupby('Brand Name')['Ratings'].mean().reset_index()\n",
        "top_brands = top_brands.sort_values(by='Ratings', ascending=False)\n",
        "print(top_brands)"
      ],
      "metadata": {
        "colab": {
          "base_uri": "https://localhost:8080/"
        },
        "id": "xgiDaI_AP5TN",
        "outputId": "32ef7919-730d-49c4-b620-d0274308a6dc"
      },
      "execution_count": 14,
      "outputs": [
        {
          "output_type": "stream",
          "name": "stdout",
          "text": [
            "\n",
            "Top Brands by Average Rating:\n",
            "                   Brand Name   Ratings\n",
            "6                      Campus  4.428571\n",
            "59                    Sunsilk  4.409091\n",
            "35                      Metro  4.375000\n",
            "9                       Crocs  4.333333\n",
            "60               Swiss Beauty  4.315789\n",
            "..                        ...       ...\n",
            "63  United Colors of Benetton  3.750000\n",
            "21                    Krayons  3.736842\n",
            "44                       ONLY  3.714286\n",
            "22                   La Zoire  3.666667\n",
            "70                   Woodland  3.411765\n",
            "\n",
            "[72 rows x 2 columns]\n"
          ]
        }
      ]
    },
    {
      "cell_type": "code",
      "source": [],
      "metadata": {
        "id": "7qCAmrYYP71C"
      },
      "execution_count": 16,
      "outputs": []
    },
    {
      "cell_type": "code",
      "source": [],
      "metadata": {
        "id": "oDW6a36cQRKV"
      },
      "execution_count": null,
      "outputs": []
    }
  ]
}