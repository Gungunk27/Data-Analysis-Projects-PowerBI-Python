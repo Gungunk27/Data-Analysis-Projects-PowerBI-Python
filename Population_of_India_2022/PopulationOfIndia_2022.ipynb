{
  "nbformat": 4,
  "nbformat_minor": 0,
  "metadata": {
    "colab": {
      "provenance": []
    },
    "kernelspec": {
      "name": "python3",
      "display_name": "Python 3"
    },
    "language_info": {
      "name": "python"
    }
  },
  "cells": [
    {
      "cell_type": "code",
      "execution_count": 2,
      "metadata": {
        "id": "Ug3np67mcyGl"
      },
      "outputs": [],
      "source": [
        "%%capture\n",
        "%load_ext sql\n",
        "%sql sqlite:///Population of India.csv\n"
      ]
    },
    {
      "cell_type": "code",
      "source": [
        "import pandas as pd\n",
        "from sqlalchemy import create_engine\n",
        "\n",
        "# Step 1: Load CSV file into a pandas DataFrame\n",
        "csv_file = 'Population of India.csv'\n",
        "df = pd.read_csv(csv_file)\n",
        "\n",
        "# Step 2: Create a SQLite database\n",
        "engine = create_engine('sqlite:///Population.db')  # Creates SQLite file named Population.db\n",
        "\n",
        "# Step 3: Write DataFrame to SQLite table\n",
        "table_name = 'Population'\n",
        "df.to_sql(table_name, engine, if_exists='replace', index=False)\n",
        "\n",
        "print(f\"Data successfully imported into the {table_name} table.\")\n"
      ],
      "metadata": {
        "colab": {
          "base_uri": "https://localhost:8080/"
        },
        "id": "gOg217pcdGS-",
        "outputId": "28d70bee-816b-4c68-9238-a7ba67840291"
      },
      "execution_count": 7,
      "outputs": [
        {
          "output_type": "stream",
          "name": "stdout",
          "text": [
            "Data successfully imported into the Population table.\n"
          ]
        }
      ]
    },
    {
      "cell_type": "code",
      "source": [
        "import sqlite3\n",
        "\n",
        "# Connect to the SQLite database\n",
        "conn = sqlite3.connect('Population.db')\n",
        "\n",
        "# Create a cursor\n",
        "cur = conn.cursor()\n",
        "\n",
        "# Query the Population table\n",
        "cur.execute(\"SELECT * FROM Population LIMIT 5\")\n",
        "\n",
        "# Fetch and print the results\n",
        "rows = cur.fetchall()\n",
        "for row in rows:\n",
        "    print(row)\n",
        "\n",
        "\n"
      ],
      "metadata": {
        "colab": {
          "base_uri": "https://localhost:8080/"
        },
        "id": "yMTrJ7ZmdTO-",
        "outputId": "4b51b0ac-5ddc-4d20-a37e-7b902100b378"
      },
      "execution_count": 12,
      "outputs": [
        {
          "output_type": "stream",
          "name": "stdout",
          "text": [
            "('1', 'Uttar Pradesh', 199812341, 16.5, 104480510, 95331831, '9148679', 930, 155111022, 44470455, 240928, 828)\n",
            "('2', 'Maharashtra', 112374333, 9.28, 58243056, 54131277, '4111779', 929, 61545441, 50827531, 307713, 365)\n",
            "('3', 'Bihar', 104099452, 8.6, 54278157, 49821295, '4456862', 918, 92075028, 11729609, 94163, 1102)\n",
            "('4', 'West Bengal', 91276115, 7.54, 46809027, 44467088, '2341939', 950, 62213676, 29134060, 88752, 1030)\n",
            "('5', 'Madhya Pradesh', 72626809, 6.0, 37612306, 35014503, '2597803', 931, 52537899, 20059666, 308245, 236)\n"
          ]
        }
      ]
    },
    {
      "cell_type": "code",
      "source": [
        "column_names = [description[0] for description in cur.description]\n",
        "\n",
        "# Print the column names\n",
        "print(\"Column Names:\", column_names)"
      ],
      "metadata": {
        "colab": {
          "base_uri": "https://localhost:8080/"
        },
        "id": "lAYLL57cdc-h",
        "outputId": "0cf46389-59c3-41a2-a0b0-92cb6ac6a213"
      },
      "execution_count": 13,
      "outputs": [
        {
          "output_type": "stream",
          "name": "stdout",
          "text": [
            "Column Names: ['Sl No', 'State/UT', 'Population[50]', 'Percent (%)', 'Male', 'Female', 'Difference between male and female', 'Sex ratio', 'Rural[51]', 'Urban[51]', 'Area[52] (km2)', 'Density (per km2)']\n"
          ]
        }
      ]
    },
    {
      "cell_type": "code",
      "source": [
        "cur.execute('SELECT MIN(\"Population[50]\") FROM Population')\n",
        "min_population = cur.fetchone()[0]\n",
        "print(\"Minimum Population:\", min_population)\n"
      ],
      "metadata": {
        "colab": {
          "base_uri": "https://localhost:8080/"
        },
        "id": "L5ZO7yLMfT8r",
        "outputId": "733e311c-8d0b-4a0c-d421-ea502ea5a83d"
      },
      "execution_count": 16,
      "outputs": [
        {
          "output_type": "stream",
          "name": "stdout",
          "text": [
            "Minimum Population: 64473\n"
          ]
        }
      ]
    },
    {
      "cell_type": "code",
      "source": [
        "cur.execute('SELECT MAX(\"Population[50]\") FROM Population')\n",
        "max_population = cur.fetchone()[0]\n",
        "print(\"Maximum Population:\", max_population)\n"
      ],
      "metadata": {
        "colab": {
          "base_uri": "https://localhost:8080/"
        },
        "id": "DATo_DnFfyI-",
        "outputId": "fe421513-257a-434f-9a46-42ae0898bcb8"
      },
      "execution_count": 17,
      "outputs": [
        {
          "output_type": "stream",
          "name": "stdout",
          "text": [
            "Maximum Population: 1210854977\n"
          ]
        }
      ]
    },
    {
      "cell_type": "code",
      "source": [
        "cur.execute('SELECT AVG(\"Population[50]\") FROM Population')\n",
        "average_population = cur.fetchone()[0]\n",
        "print(\"Average Population:\", average_population)\n"
      ],
      "metadata": {
        "colab": {
          "base_uri": "https://localhost:8080/"
        },
        "id": "8W1RxVa6gXSt",
        "outputId": "c22dff54-2804-4fd8-a3bd-72524d7bf61b"
      },
      "execution_count": 18,
      "outputs": [
        {
          "output_type": "stream",
          "name": "stdout",
          "text": [
            "Average Population: 65451620.37837838\n"
          ]
        }
      ]
    },
    {
      "cell_type": "code",
      "source": [
        "cur.execute('SELECT SUM(\"Population[50]\") FROM Population')\n",
        "total_population = cur.fetchone()[0]\n",
        "print(\"Total Population:\", total_population)\n"
      ],
      "metadata": {
        "colab": {
          "base_uri": "https://localhost:8080/"
        },
        "id": "6e2J3azlgZgH",
        "outputId": "4cf7c5ee-505a-4a8b-d6a6-3e62e912fc3a"
      },
      "execution_count": 19,
      "outputs": [
        {
          "output_type": "stream",
          "name": "stdout",
          "text": [
            "Total Population: 2421709954\n"
          ]
        }
      ]
    },
    {
      "cell_type": "code",
      "source": [
        "cur.execute('SELECT COUNT(*) FROM Population')\n",
        "count_records = cur.fetchone()[0]\n",
        "print(\"Total Records:\", count_records)\n"
      ],
      "metadata": {
        "colab": {
          "base_uri": "https://localhost:8080/"
        },
        "id": "QWYDuIpHgblA",
        "outputId": "92b46a79-bac6-43cd-97e4-2ed0ca314d5e"
      },
      "execution_count": 20,
      "outputs": [
        {
          "output_type": "stream",
          "name": "stdout",
          "text": [
            "Total Records: 37\n"
          ]
        }
      ]
    },
    {
      "cell_type": "code",
      "source": [
        "cur.execute('''\n",
        "    SELECT\n",
        "        SUM(CASE WHEN \"Population[50]\" < 1000000 THEN 1 ELSE 0 END) AS \"Less than 1M\",\n",
        "        SUM(CASE WHEN \"Population[50]\" >= 1000000 AND \"Population[50]\" < 10000000 THEN 1 ELSE 0 END) AS \"1M to 10M\",\n",
        "        SUM(CASE WHEN \"Population[50]\" >= 10000000 THEN 1 ELSE 0 END) AS \"More than 10M\"\n",
        "    FROM Population\n",
        "''')\n",
        "population_distribution = cur.fetchone()\n",
        "print(\"Population Distribution:\", population_distribution)\n"
      ],
      "metadata": {
        "colab": {
          "base_uri": "https://localhost:8080/"
        },
        "id": "qzeGDidLhbGn",
        "outputId": "6ba14cb3-4e0a-423f-939b-2c004610ccd2"
      },
      "execution_count": 21,
      "outputs": [
        {
          "output_type": "stream",
          "name": "stdout",
          "text": [
            "Population Distribution: (5, 10, 22)\n"
          ]
        }
      ]
    },
    {
      "cell_type": "code",
      "source": [
        "cur.execute('SELECT AVG(Male), AVG(Female) FROM Population')\n",
        "avg_male_female = cur.fetchone()\n",
        "print(\"Average Male Population:\", avg_male_female[0])\n",
        "print(\"Average Female Population:\", avg_male_female[1])\n"
      ],
      "metadata": {
        "colab": {
          "base_uri": "https://localhost:8080/"
        },
        "id": "4W_ceCOFhe4l",
        "outputId": "183c4991-1234-4df9-cb94-749020c9e85a"
      },
      "execution_count": 22,
      "outputs": [
        {
          "output_type": "stream",
          "name": "stdout",
          "text": [
            "Average Male Population: 33699854.24324324\n",
            "Average Female Population: 31731183.56756757\n"
          ]
        }
      ]
    },
    {
      "cell_type": "code",
      "source": [
        "cur.execute('SELECT SUM(Female), SUM(Male) FROM Population')\n",
        "total_female, total_male = cur.fetchone()\n",
        "if total_male > 0:  # Avoid division by zero\n",
        "    sex_ratio = (total_female / total_male) * 1000\n",
        "else:\n",
        "    sex_ratio = None\n",
        "print(\"Sex Ratio (Females per 1000 Males):\", sex_ratio)\n"
      ],
      "metadata": {
        "colab": {
          "base_uri": "https://localhost:8080/"
        },
        "id": "T7otpEh9hjlV",
        "outputId": "806aa22a-7086-4b62-bc04-c41e951c4239"
      },
      "execution_count": 23,
      "outputs": [
        {
          "output_type": "stream",
          "name": "stdout",
          "text": [
            "Sex Ratio (Females per 1000 Males): 941.582219867601\n"
          ]
        }
      ]
    },
    {
      "cell_type": "code",
      "source": [
        "cur.execute('SELECT AVG(\"Density (per km2)\") FROM Population')\n",
        "average_density = cur.fetchone()[0]\n",
        "print(\"Average Population Density (per km2):\", average_density)\n"
      ],
      "metadata": {
        "colab": {
          "base_uri": "https://localhost:8080/"
        },
        "id": "WZ_vXkw0hpxw",
        "outputId": "6d5793b9-86be-444e-9bd1-99b0fee38a72"
      },
      "execution_count": 24,
      "outputs": [
        {
          "output_type": "stream",
          "name": "stdout",
          "text": [
            "Average Population Density (per km2): 1051.6486486486488\n"
          ]
        }
      ]
    },
    {
      "cell_type": "code",
      "source": [
        "cur.execute('SELECT SUM(\"Difference between male and female\") FROM Population')\n",
        "total_difference = cur.fetchone()[0]\n",
        "print(\"Total Difference Between Male and Female Population:\", total_difference)\n"
      ],
      "metadata": {
        "colab": {
          "base_uri": "https://localhost:8080/"
        },
        "id": "SY-3P-_Phrse",
        "outputId": "185fd7aa-74b4-4da0-c92c-8d5bfb4bc397"
      },
      "execution_count": 25,
      "outputs": [
        {
          "output_type": "stream",
          "name": "stdout",
          "text": [
            "Total Difference Between Male and Female Population: 72545650.0\n"
          ]
        }
      ]
    },
    {
      "cell_type": "code",
      "source": [
        "cur.execute('SELECT SUM(\"Urban[51]\"), SUM(\"Rural[51]\") FROM Population')\n",
        "total_urban, total_rural = cur.fetchone()\n",
        "print(\"Total Urban Population:\", total_urban)\n",
        "print(\"Total Rural Population:\", total_rural)\n"
      ],
      "metadata": {
        "colab": {
          "base_uri": "https://localhost:8080/"
        },
        "id": "CPuR-0uZhuXH",
        "outputId": "4da2b248-92fe-4b6f-d079-82f3b05a374b"
      },
      "execution_count": 26,
      "outputs": [
        {
          "output_type": "stream",
          "name": "stdout",
          "text": [
            "Total Urban Population: 750648734\n",
            "Total Rural Population: 1666740656\n"
          ]
        }
      ]
    },
    {
      "cell_type": "code",
      "source": [],
      "metadata": {
        "id": "KxrU83BFhwhP"
      },
      "execution_count": null,
      "outputs": []
    }
  ]
}